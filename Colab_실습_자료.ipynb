{
  "nbformat": 4,
  "nbformat_minor": 0,
  "metadata": {
    "colab": {
      "name": "Colab_실습_자료.ipynb",
      "provenance": [],
      "collapsed_sections": [],
      "toc_visible": true,
      "include_colab_link": true
    },
    "kernelspec": {
      "name": "python3",
      "display_name": "Python 3"
    },
    "accelerator": "GPU"
  },
  "cells": [
    {
      "cell_type": "markdown",
      "metadata": {
        "id": "view-in-github",
        "colab_type": "text"
      },
      "source": [
        "<a href=\"https://colab.research.google.com/github/KooJabin02/DALC_scala/blob/main/Colab_%EC%8B%A4%EC%8A%B5_%EC%9E%90%EB%A3%8C.ipynb\" target=\"_parent\"><img src=\"https://colab.research.google.com/assets/colab-badge.svg\" alt=\"Open In Colab\"/></a>"
      ]
    },
    {
      "cell_type": "code",
      "metadata": {
        "id": "9_fceN9EqMps"
      },
      "source": [
        ""
      ],
      "execution_count": null,
      "outputs": []
    },
    {
      "cell_type": "markdown",
      "metadata": {
        "id": "EWndrTzeEvmT"
      },
      "source": [
        "# Colab 실습 하기\r\n"
      ]
    },
    {
      "cell_type": "markdown",
      "metadata": {
        "id": "f93DYiLJE1Iz"
      },
      "source": [
        "## 1. 마크다운으로 내 깃허브 링크 삽입하기\r\n",
        "\r\n",
        "(https://github.com/KooJabin02/DALC_scala)\r\n"
      ]
    },
    {
      "cell_type": "code",
      "metadata": {
        "id": "Ab0H9JYkr3es"
      },
      "source": [
        "https://github.com/KooJabin02/DALC_scala"
      ],
      "execution_count": null,
      "outputs": []
    },
    {
      "cell_type": "markdown",
      "metadata": {
        "id": "wEZnlUbIFVa-"
      },
      "source": [
        "## 2. 마크다운으로 이미지 삽입하기\r\n",
        "\r\n",
        "- 이미지는 인터넷에 있는 이미지 아무거나 또는 내 pc에 저장되어 있는 아무이미지를 삽입해주시면 됩니다. \r\n",
        "\r\n",
        "(![](https://pbs.twimg.com/profile_images/1085151878583791616/-JILKUI4_400x400.jpg))"
      ]
    },
    {
      "cell_type": "code",
      "metadata": {
        "id": "etzFxVrWrQjc"
      },
      "source": [
        "![](https://pbs.twimg.com/profile_images/1085151878583791616/-JILKUI4_400x400.jpg)"
      ],
      "execution_count": null,
      "outputs": []
    },
    {
      "cell_type": "markdown",
      "metadata": {
        "id": "rtnleslqFhT8"
      },
      "source": [
        "## 3. 마크다운으로 수업 배운 것 정리해보기\r\n",
        "- 전공수업, 교양 수업, 오늘 ot내용, 요즘 준비하는 자격증 내용 등등 기타 자기가 최근 배운 것 아무거나 최소 3줄이상 작성해주세요. (이때 단어강조하기, 문장 띄어쓰기, 인용구등 사용하기)\r\n",
        "\r\n",
        "(<u>html</u>을 전공수업에서 새로 배웠는데 재밌었다.동아리에서 자기소개를 하는데 쑥쓰러웠다.)\r\n",
        "\r\n"
      ]
    },
    {
      "cell_type": "code",
      "metadata": {
        "id": "QuWOpjVksbAx"
      },
      "source": [
        ""
      ],
      "execution_count": null,
      "outputs": []
    }
  ]
}